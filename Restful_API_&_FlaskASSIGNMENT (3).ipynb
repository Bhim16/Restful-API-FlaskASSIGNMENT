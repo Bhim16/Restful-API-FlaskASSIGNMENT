{
  "cells": [
    {
      "cell_type": "markdown",
      "metadata": {
        "id": "goXXIEUi_NED"
      },
      "source": [
        "# What is a RESTful API\n",
        "\n",
        "The RESTful API is an interface that follows the principles of Representational State Transfer REST a software architectural style for distributed hypermedia systems."
      ]
    },
    {
      "cell_type": "markdown",
      "metadata": {
        "id": "EPIUkMpD_RHb"
      },
      "source": [
        "# Explain the concept of API specification\n",
        "\n",
        "The API specification is a formal document that defines how an API works including its behavior data structures and interactions with other systems. It serves as a contract between the API provider and consumers, outlining what's expected from both sides"
      ]
    },
    {
      "cell_type": "markdown",
      "metadata": {
        "id": "RclQA6If_T29"
      },
      "source": [
        "# What is Flask, and why is it popular for building APIs.\n",
        "The Flask is a lightweight flexible Python microframework popular for building RESTful APIs due to its simplicity and ease of use. It often preferred for it minimal dependencies and flexibility allowing developers to create custom scalable APIs with less overhead."
      ]
    },
    {
      "cell_type": "markdown",
      "metadata": {
        "id": "W3IF5k0f_aZY"
      },
      "source": [
        "# What is routing in Flask\n",
        "The routing is the mechanism that maps specific URLs to the functions that handle them. It defines how the application responds to client requests for different resources. When a user accesses a particular URL Flasks routing system determines which function should be executed to process the request and return the appropriate response.Routing in Flask is implemented using the @app.route() decorator. This decorator is applied to a Python function associating it with a specific URL path. When a request is made to that URL Flask executes the decorated function and returns its result as the response."
      ]
    },
    {
      "cell_type": "markdown",
      "metadata": {
        "id": "IM2kYjQI_ked"
      },
      "source": [
        "# How do you create a simple Flask application"
      ]
    },
    {
      "cell_type": "markdown",
      "metadata": {
        "id": "YAnAA2Jq_miO"
      },
      "source": [
        "# What are HTTP methods used in RESTful APIs\n",
        "The http method used in RESTful APIs is  GET POST PUT PATCH and DELETE to perform CRUD operations on resources."
      ]
    },
    {
      "cell_type": "markdown",
      "metadata": {
        "id": "VaoDg2_0_sRF"
      },
      "source": [
        "# What is the purpose of the @app.route() decorator in Flask\n",
        "The @app.route() decorator in Flask is used to bind a URL path to a specific function. It essentially tells the Flask application what code to execute when a user visits a particular URL in their browser. When a request comes in, Flask uses the route map to find the registered function & call it."
      ]
    },
    {
      "cell_type": "markdown",
      "metadata": {
        "id": "BCfn93OO_w-D"
      },
      "source": [
        "# What is the difference between GET and POST HTTP methods\n",
        "The primary difference between GET and POST HTTP methods lies in their intended use  GET retrieves data while POST submits data to create or update a resource. GET passes data as URL parameters making it visible in the browser history, while POST sends data within the request body keeping it hidden."
      ]
    },
    {
      "cell_type": "markdown",
      "metadata": {
        "id": "mzqwjt5D_3WX"
      },
      "source": [
        "# How do you handle errors in Flask APIs\n",
        "The Error handling in Flask APIs can be implemented using the @app.error handler decorator or the abort() function. These methods allow for customizing error responses and providing meaningful feedback to the client."
      ]
    },
    {
      "cell_type": "markdown",
      "metadata": {
        "id": "EgLYtqQ8_5m2"
      },
      "source": [
        "#  How do you connect Flask to a SQL database\n",
        "The Setting  up in SQLAlchemy To create a database we need to import SQLAlchemy in app.py set up SQLite configuration and create a database instance as shown below. We set up Flask connect it to a SQLite database site. db and use db. create_all() to create the database when the app runs\n"
      ]
    },
    {
      "cell_type": "markdown",
      "metadata": {
        "id": "shwFfHAgABbu"
      },
      "source": [
        "# What is the role of Flask-SQLAlchemy\n",
        "The Flask SQLAlchemy enables developers to perform tasks like defining models creating queries and easily managing database migrations and supports multiple database management systems such as SQLite MySQL and PostgreSQL."
      ]
    },
    {
      "cell_type": "markdown",
      "metadata": {
        "id": "klgra2srADb6"
      },
      "source": [
        "# What are Flask blueprints, and how are they useful\n",
        "The  Flask Blueprint is an object that works very similarly to a Flask application.Flask blueprints are a way to organize your Flask application into reusable and most importantly maintainable units.\n"
      ]
    },
    {
      "cell_type": "markdown",
      "metadata": {
        "id": "Ng1eCR1yAIDJ"
      },
      "source": [
        "# What is the purpose of Flask's request object\n",
        "The Flask request object serves as a central point for accessing information about incoming HTTP requests in a Flask application. It provides access to various data including request headers URL parameters form data cookies and uploaded files. Essentially it encapsulates all the information the client sends to the server in an HTTP request"
      ]
    },
    {
      "cell_type": "markdown",
      "metadata": {
        "id": "tPWn6-MTAMeW"
      },
      "source": [
        "# How do you create a RESTful API endpoint using Flask\n",
        "the endpoint using the @app.route decorator.\n",
        "\n",
        "'/example' specifies the URL path for the endpoint.\n",
        "\n",
        "methods=['GET'] indicates that this endpoint handles GET requests.\\\n",
        "\n",
        "jsonify(data) converts the Python dictionary data to a JSON response.\n",
        "\n",
        "(code)\n",
        "\n",
        "    @app.route('/example', methods=['GET'])\n",
        "    def get_example():\n",
        "        data = {'message': 'This is a GET request example'}\n",
        "        return jsonify(data)\n",
        "\n"
      ]
    },
    {
      "cell_type": "markdown",
      "metadata": {
        "id": "LSWCQ9zLAQWh"
      },
      "source": [
        "# What is the purpose of Flask's jsonify() function\n",
        "The purpose of Flasks jsonify() function simplifies returning JSON responses from Flask applications. It converts Python objects into JSON format and sets the appropriate Content Type header  for the HTTP response. This function is particularly useful for building REST APIs where JSON data is the standard format for communication"
      ]
    },
    {
      "cell_type": "markdown",
      "metadata": {
        "id": "Hfh8A_pHAXU8"
      },
      "source": [
        "#  Explain Flask’s url_for() function\n",
        "The url_for() function in Flask generates a URL to a specific function dynamically. It accepts the name of the view function as its first argument and any number of keyword arguments each corresponding to the variable part of the URL rule. This function is useful for avoiding hard-coding URLs in templates and code, making applications more maintainable. If the URL structure changes only the route definition needs to be updated, and url_for() will generate the correct URLs automaticall"
      ]
    },
    {
      "cell_type": "markdown",
      "metadata": {
        "id": "Ii2RZj73AaV-"
      },
      "source": [
        "# How does Flask handle static files (CSS, JavaScript, etc.)\n",
        "Flask handles static files such as CSS, JavaScript, and images through a dedicated \"static\" folder within the application directory. By default, Flask assumes that any file placed within this folder should be served as a static asset. The folder is typically located at the root level of the application, alongside the Python files and templates To access static files in templates  the url_for() function is used with the static endpoint. For instance to include a CSS file named \"styles.css\" located in the \"static\" folder the following code can be used within an HTML template\n",
        "\n",
        "<link rel=\"stylesheet\" href=\"{{ url_for('static', filename='styles.css') }}\">"
      ]
    },
    {
      "cell_type": "markdown",
      "metadata": {
        "id": "WvkqunC_AeDk"
      },
      "source": [
        "# What is an API specification, and how does it help in building a Flask API\n",
        "API specification is a formal document that outlines the details of an API, including its behavior, operations, data models, and how it interacts with other systems.\n",
        "it is a blueprint for building an API and ensuring a consistent and predictable interface."
      ]
    },
    {
      "cell_type": "markdown",
      "metadata": {
        "id": "EaULCERxAiDk"
      },
      "source": [
        "# What are HTTP status codes, and why are they important in a Flask API\n",
        "HTTP status codes are three-digit codes that indicate the outcome of an API request. They are included in the APIs response to the API client and they include important information that helps the client know how to proceed"
      ]
    },
    {
      "cell_type": "markdown",
      "metadata": {
        "id": "Bve8A1OtAtd8"
      },
      "source": [
        "# How do you handle POST requests in Flask\n",
        "Handling POST requests in Flask involves defining a route that accepts POST requests and accessing the data sent in the request body.the @app.route decorator with the methods argument set to ['POST'] or ['GET', 'POST'] to specify that the route should handle POST requests.\n",
        "   \n",
        "   # from flask import Flask, request, render_template\n",
        "\n",
        "    \n",
        "    app = Flask(__name__)\n",
        "\n",
        "    @app.route('/submit', methods=['GET','POST'])\n",
        "    def submit_form():\n",
        "        if request.method == 'POST':\n",
        "            # Handle POST request\n",
        "            name = request.form['name']\n",
        "            return render_template('success.html', name=name)\n",
        "        return render_template('form.html')"
      ]
    },
    {
      "cell_type": "markdown",
      "metadata": {
        "id": "p8328U7wAvlD"
      },
      "source": [
        "# How would you secure a Flask API\n",
        "use a digital certificate to enable secure communication and the --cert and --key options in uvicorn allow you to specify the SSL certificate and key files"
      ]
    },
    {
      "cell_type": "markdown",
      "metadata": {
        "id": "pQtWDPDQAzj3"
      },
      "source": [
        "# What is the significance of the Flask-RESTful extension\n",
        "The Flask-RESTful extension significantly simplifies building RESTful APIs in Python using the Flask framework. It provides tools and abstractions for defining resources handling HTTP methods and managing requests and responses leading to cleaner more organized and efficient API development."
      ]
    },
    {
      "cell_type": "markdown",
      "metadata": {
        "id": "uJVQ4fr2A30w"
      },
      "source": [
        "# What is the role of Flask’s session object?\n",
        "session object in Flask is used to maintain sessions. A dictionary-like interface (which is a python inbuilt type) is provided by the session object for storing and retrieving user-specific information."
      ]
    },
    {
      "cell_type": "markdown",
      "metadata": {
        "id": "SzFD83gkA8LR"
      },
      "source": [
        "#                              Practical"
      ]
    },
    {
      "cell_type": "code",
      "execution_count": null,
      "metadata": {
        "colab": {
          "background_save": true,
          "base_uri": "https://localhost:8080/"
        },
        "id": "WertLTi_BAz4",
        "outputId": "6196992e-d65c-47c4-92b5-dc7c0cdedcd3"
      },
      "outputs": [
        {
          "name": "stdout",
          "output_type": "stream",
          "text": [
            " * Serving Flask app '__main__'\n",
            " * Debug mode: on\n"
          ]
        },
        {
          "name": "stderr",
          "output_type": "stream",
          "text": [
            "INFO:werkzeug:\u001b[31m\u001b[1mWARNING: This is a development server. Do not use it in a production deployment. Use a production WSGI server instead.\u001b[0m\n",
            " * Running on http://127.0.0.1:5000\n",
            "INFO:werkzeug:\u001b[33mPress CTRL+C to quit\u001b[0m\n",
            "INFO:werkzeug: * Restarting with stat\n"
          ]
        }
      ],
      "source": [
        "#How do you create a basic Flask application\n",
        "from flask import Flask\n",
        "\n",
        "app = Flask(__name__)\n",
        "\n",
        "@app.route(\"/\")\n",
        "def hello():\n",
        "  return \"Hello, World!\"\n",
        "\n",
        "if __name__ == \"__main__\":\n",
        "  app.run(debug=True)"
      ]
    },
    {
      "cell_type": "code",
      "execution_count": null,
      "metadata": {
        "id": "K4zJ0SJTBE2L"
      },
      "outputs": [],
      "source": [
        "#How do you serve static files like images or CSS in Flask\n",
        "form flask import flask, url_for\n",
        " app = flask(__name__)\n",
        " @app.route('/')\n",
        " def index():\n",
        "\n",
        "  image_url = url_for('static', filename='images/my_image.jpg')\n",
        "  css_url = url_for('static', filename='styles.css')\n",
        "  return f\"\"\"\n",
        "  <html>\n",
        "  <head>\n",
        "    <title>Static Files Example</title>\n",
        "    <link rel=\"stylesheet\" href=\"{css_url}\">\n",
        "  </head>\n",
        "  <body>\n",
        "    <h1>My Static Files</h1>\n",
        "  <img src=\"{image_url}\" alt=\"My Image\">\n",
        "  </body>\n",
        "    </html>\n",
        "    \"\"\"\n",
        "    if __name__ == '__main__':\n",
        "    app.run(debug=True)\n"
      ]
    },
    {
      "cell_type": "code",
      "execution_count": null,
      "metadata": {
        "colab": {
          "background_save": true,
          "base_uri": "https://localhost:8080/"
        },
        "id": "V_PunqiKBIdu",
        "outputId": "ec6ea8e6-2356-4155-ec41-551f6e0cd3f4"
      },
      "outputs": [
        {
          "name": "stdout",
          "output_type": "stream",
          "text": [
            " * Serving Flask app '__main__'\n",
            " * Debug mode: on\n"
          ]
        },
        {
          "name": "stderr",
          "output_type": "stream",
          "text": [
            "INFO:werkzeug:\u001b[31m\u001b[1mWARNING: This is a development server. Do not use it in a production deployment. Use a production WSGI server instead.\u001b[0m\n",
            " * Running on http://127.0.0.1:5000\n",
            "INFO:werkzeug:\u001b[33mPress CTRL+C to quit\u001b[0m\n",
            "INFO:werkzeug: * Restarting with stat\n"
          ]
        }
      ],
      "source": [
        "# How do you define different routes with different HTTP methods in Flask\n",
        "\n",
        "from flask import Flask, request, jsonify\n",
        "\n",
        "app = Flask(__name__)\n",
        "\n",
        "@app.route('/users', methods=['GET', 'POST'])\n",
        "def users():\n",
        "    if request.method == 'GET':\n",
        "\n",
        "        users = [{'id': 1, 'name': ''}, {rohan'id': 2, 'name': 'bob'}]\n",
        "        return jsonify(users)\n",
        "    elif request.method == 'POST':\n",
        "\n",
        "        data = request.get_json()\n",
        "\n",
        "        new_user = {'id': 3, 'name': data.get('name', 'New User')}\n",
        "        return jsonify(new_user), 201\n",
        "\n",
        "@app.route('/users/<int:user_id>', methods=['GET', 'PUT', 'DELETE'])\n",
        "def user(user_id):\n",
        "    if request.method == 'GET':\n",
        "\n",
        "        user = {'id': user_id, 'name': 'Specific User'}\n",
        "        return jsonify(user)\n",
        "    elif request.method == 'PUT':\n",
        "\n",
        "        data = request.get_json()\n",
        "\n",
        "        return jsonify({'message': f'User {user_id} updated'}), 200\n",
        "    elif request.method == 'DELETE':\n",
        "\n",
        "        return jsonify({'message': f'User {user_id} deleted'}), 200\n",
        "\n",
        "if __name__ == '__main__':\n",
        "    app.run(debug=True)\n"
      ]
    },
    {
      "cell_type": "code",
      "execution_count": null,
      "metadata": {
        "id": "uSqXFJQQBL-e"
      },
      "outputs": [],
      "source": [
        "# How do you render HTML templates in Flask\n",
        "from flask import Flask, render_template\n",
        "\n",
        "app = Flask(__name__)\n",
        "\n",
        "@app.route('/')\n",
        "def index():\n",
        "\n",
        "    name = \"Alice\"\n",
        "    items = [\"apple\", \"banana\", \"cherry\"]\n",
        "    return render_template('index.html', name=name, items=items)\n",
        "\n",
        "if __name__ == '__main__':\n",
        "    app.run(debug=True)\n"
      ]
    },
    {
      "cell_type": "code",
      "execution_count": 1,
      "metadata": {
        "id": "d6ea1ZP4BPq9",
        "colab": {
          "base_uri": "https://localhost:8080/"
        },
        "outputId": "d269046c-ead7-4507-b57a-5550b6697ddc"
      },
      "outputs": [
        {
          "output_type": "stream",
          "name": "stdout",
          "text": [
            "/\n",
            "/login\n",
            "/login?next=/\n",
            "/user/John%20Doe\n"
          ]
        }
      ],
      "source": [
        "#How can you generate URLs for routes in Flask using url_for\n",
        "from flask import Flask, url_for\n",
        "\n",
        "app = Flask(__name__)\n",
        "\n",
        "@app.route('/')\n",
        "def index():\n",
        "    return 'Index Page'\n",
        "\n",
        "@app.route('/login')\n",
        "def login():\n",
        "    return 'Login Page'\n",
        "\n",
        "@app.route('/user/<username>')\n",
        "def profile(username):\n",
        "    return f'{username}\\'s profile'\n",
        "\n",
        "with app.test_request_context():\n",
        "    print(url_for('index'))\n",
        "    print(url_for('login'))\n",
        "    print(url_for('login', next='/'))\n",
        "    print(url_for('profile', username='John Doe'))\n"
      ]
    },
    {
      "cell_type": "code",
      "execution_count": null,
      "metadata": {
        "id": "4G1GkqF8CIwa"
      },
      "outputs": [],
      "source": [
        "# prompt: How can you generate URLs for routes in Flask using url_for\n",
        "\n",
        "from flask import Flask, url_for\n",
        "\n",
        "app = Flask(__name__)\n",
        "\n",
        "@app.route('/')\n",
        "def index():\n",
        "    return 'Index Page'\n",
        "\n",
        "@app.route('/login')\n",
        "def login():\n",
        "    return 'Login Page'\n",
        "\n",
        "@app.route('/user/<username>')\n",
        "def profile(username):\n",
        "    return f'{username}\\'s profile'\n",
        "\n",
        "with app.test_request_context():\n",
        "    print(url_for('index'))\n",
        "    print(url_for('login'))\n",
        "    print(url_for('login', next='/'))\n",
        "    print(url_for('profile', username='John Doe'))\n"
      ]
    },
    {
      "cell_type": "code",
      "execution_count": null,
      "metadata": {
        "id": "lReToGGVBQV1",
        "colab": {
          "base_uri": "https://localhost:8080/"
        },
        "outputId": "48755c66-e743-46aa-d4e3-c9182a01f261"
      },
      "outputs": [
        {
          "output_type": "stream",
          "name": "stdout",
          "text": [
            " * Serving Flask app '__main__'\n",
            " * Debug mode: on\n"
          ]
        },
        {
          "output_type": "stream",
          "name": "stderr",
          "text": [
            "INFO:werkzeug:\u001b[31m\u001b[1mWARNING: This is a development server. Do not use it in a production deployment. Use a production WSGI server instead.\u001b[0m\n",
            " * Running on http://127.0.0.1:5000\n",
            "INFO:werkzeug:\u001b[33mPress CTRL+C to quit\u001b[0m\n",
            "INFO:werkzeug: * Restarting with stat\n"
          ]
        }
      ],
      "source": [
        "#How do you handle forms in Flask\n",
        "from flask import Flask, render_template, request, redirect, url_for\n",
        "\n",
        "app = Flask(__name__)\n",
        "\n",
        "@app.route('/', methods=['GET', 'POST'])\n",
        "def index():\n",
        "    if request.method == 'POST':\n",
        "        name = request.form['name']\n",
        "        email = request.form['email']\n",
        "\n",
        "        print(f\"Name: {name}, Email: {email}\")\n",
        "        return redirect(url_for('success', name=name))\n",
        "    return render_template('form.html')\n",
        "\n",
        "@app.route('/success/<name>')\n",
        "def success(name):\n",
        "    return f\"Form submitted successfully! Hello, {name}\"\n",
        "\n",
        "if __name__ == '__main__':\n",
        "    app.run(debug=True)\n"
      ]
    },
    {
      "cell_type": "code",
      "execution_count": null,
      "metadata": {
        "id": "fClgmbNlBQ7F"
      },
      "outputs": [],
      "source": [
        "#How do you manage sessions in Flask\n",
        "from flask import Flask, session, redirect, url_for, request\n",
        "\n",
        "app = Flask(__name__)\n",
        "app.secret_key = 'your_secret_key'\n",
        "\n",
        "@app.route('/')\n",
        "def index():\n",
        "    if 'username' in session:\n",
        "        username = session['username']\n",
        "        return f'Logged in as {username} <br><a href=\"/logout\">Logout</a>'\n",
        "    return 'You are not logged in <br><a href=\"/login\">Login</a>'\n",
        "\n",
        "@app.route('/login', methods=['GET', 'POST'])\n",
        "def login():\n",
        "    if request.method == 'POST':\n",
        "        session['username'] = request.form['username']\n",
        "        return redirect(url_for('index'))\n",
        "    return '''\n",
        "        <form method=\"post\">\n",
        "            <p><input type=\"text\" name=\"username\"></p>\n",
        "            <p><input type=\"submit\" value=\"Login\"></p>\n",
        "        </form>\n",
        "    '''\n",
        "\n",
        "@app.route('/logout')\n",
        "def logout():\n",
        "\n",
        "    session.pop('username', None)\n",
        "    return redirect(url_for('index'))\n",
        "\n",
        "if __name__ == '__main__':\n",
        "    app.run(debug=True)\n"
      ]
    },
    {
      "cell_type": "code",
      "execution_count": null,
      "metadata": {
        "id": "GP-MMJlHBRJo"
      },
      "outputs": [],
      "source": [
        "#How do you redirect to a different route in Flask\n",
        "from flask import Flask, redirect, url_for\n",
        "\n",
        "app = Flask(__name__)\n",
        "\n",
        "@app.route('/')\n",
        "def index():\n",
        "    return redirect(url_for('success'))\n",
        "\n",
        "@app.route('/success')\n",
        "def success():\n",
        "    return 'Redirected to success page!'\n",
        "\n",
        "if __name__ == '__main__':\n",
        "    app.run(debug=True)"
      ]
    },
    {
      "cell_type": "code",
      "execution_count": null,
      "metadata": {
        "id": "PQWl1Li1BRR6"
      },
      "outputs": [],
      "source": [
        "#How do you handle errors in Flask (e.g., 404)\n",
        "from flask import Flask, render_template\n",
        "\n",
        "app = Flask(__name__)\n",
        "\n",
        "@app.errorhandler(404)\n",
        "def page_not_found(error):\n",
        "    return render_template('404.html'), 404\n",
        "\n",
        "@app.route('/')\n",
        "def index():\n",
        "    return \"This is the main page\"\n",
        "\n",
        "if __name__ == '__main__':\n",
        "    app.run(debug=True)\n"
      ]
    },
    {
      "cell_type": "code",
      "execution_count": null,
      "metadata": {
        "id": "6j2sMhqYBRcw"
      },
      "outputs": [],
      "source": [
        "#How do you structure a Flask app using Blueprints\n",
        " from flask import Flask, Blueprint\n",
        "\n",
        "app = Flask(__name__)\n",
        "\n",
        "main_bp = Blueprint('main', __name__)\n",
        "\n",
        "@main_bp.route('/')\n",
        "def index():\n",
        "    return \"This is the main index page.\"\n",
        "\n",
        "app.register_blueprint(main_bp)\n",
        "\n",
        "user_bp = Blueprint('user', __name__, url_prefix='/users')\n",
        "@user_bp.route('/')\n",
        "def users():\n",
        "    return \"List of users\"\n",
        "\n",
        "@user_bp.route('/<int:user_id>')\n",
        "def user_profile(user_id):\n",
        "    return f\"Profile of user {user_id}\"\n",
        "\n",
        "app.register_blueprint(user_bp)\n",
        "\n",
        "if __name__ == '__main__':\n",
        "    app.run(debug=True)\n"
      ]
    },
    {
      "cell_type": "code",
      "execution_count": null,
      "metadata": {
        "id": "CRebnU6NBRlS"
      },
      "outputs": [],
      "source": [
        "#How do you define a custom Jinja filter in Flask\n",
        "\n",
        "from flask import Flask, render_template\n",
        "\n",
        "app = Flask(__name__)\n",
        "\n",
        "@app.template_filter('reverse_string')\n",
        "def reverse_filter(s):\n",
        "    return s[::-1]\n",
        "\n",
        "@app.route('/')\n",
        "def index():\n",
        "    my_string = \"hello\"\n",
        "    return render_template('index.html', my_string=my_string)\n",
        "\n",
        "if __name__ == '__main__':\n",
        "    app.run(debug=True)\n"
      ]
    },
    {
      "cell_type": "code",
      "execution_count": null,
      "metadata": {
        "id": "e7GBCdcaBRti"
      },
      "outputs": [],
      "source": [
        "#How can you redirect with query parameters in Flask\n",
        "from flask import Flask, redirect, url_for\n",
        "\n",
        "app = Flask(__name__)\n",
        "\n",
        "@app.route('/')\n",
        "def index():\n",
        "    return redirect(url_for('target', param1='value1', param2='value2'))\n",
        "\n",
        "@app.route('/target')\n",
        "def target():\n",
        "    param1 = request.args.get('param1')\n",
        "    param2 = request.args.get('param2')\n",
        "    return f\"Redirected with params: param1={param1}, param2={param2}\"\n",
        "\n",
        "if __name__ == '__main__':\n",
        "    app.run(debug=True)\n"
      ]
    },
    {
      "cell_type": "code",
      "execution_count": null,
      "metadata": {
        "id": "ZxFk3kNzBR1e"
      },
      "outputs": [],
      "source": [
        "# How do you return JSON responses in Flask\n",
        "from flask import Flask, jsonify\n",
        "\n",
        "app = Flask(__name__)\n",
        "\n",
        "@app.route('/data')\n",
        "def get_data():\n",
        "    data = {'name': 'John Doe', 'age': 30, 'city': 'New York'}\n",
        "    return jsonify(data)\n",
        "\n",
        "if __name__ == '__main__':\n",
        "    app.run(debug=True)\n"
      ]
    },
    {
      "cell_type": "code",
      "execution_count": null,
      "metadata": {
        "id": "7BQxJ4tOBR9H"
      },
      "outputs": [],
      "source": [
        "#How do you capture URL parameters in Flask\n",
        "from flask import Flask, request\n",
        "\n",
        "app = Flask(__name__)\n",
        "\n",
        "@app.route('/user/<username>')\n",
        "def show_user_profile(username):\n",
        "\n",
        "    return f'User {username}'\n",
        "\n",
        "@app.route('/post/<int:post_id>')\n",
        "def show_post(post_id):\n",
        "\n",
        "    return f'Post {post_id}'\n",
        "\n",
        "@app.route('/path/<path:subpath>')\n",
        "def show_subpath(subpath):\n",
        "    return f'Subpath {subpath}'\n",
        "\n",
        "@app.route('/parameters')\n",
        "def show_parameters():\n",
        "    param1 = request.args.get('param1')\n",
        "    param2 = request.args.get('param2')\n",
        "    return f\"param1: {param1}, param2: {param2}\"\n",
        "\n",
        "if __name__ == '__main__':\n",
        "    app.run(debug=True)\n"
      ]
    }
  ],
  "metadata": {
    "colab": {
      "provenance": []
    },
    "kernelspec": {
      "display_name": "Python 3",
      "name": "python3"
    },
    "language_info": {
      "name": "python"
    }
  },
  "nbformat": 4,
  "nbformat_minor": 0
}